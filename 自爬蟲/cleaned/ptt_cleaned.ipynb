{
 "cells": [
  {
   "cell_type": "code",
   "execution_count": 4,
   "id": "e51c4409",
   "metadata": {},
   "outputs": [
    {
     "name": "stdout",
     "output_type": "stream",
     "text": [
      "✅ 已完成清洗並輸出：../ptt_語料_處理後.csv\n"
     ]
    }
   ],
   "source": [
    "import pandas as pd\n",
    "import re\n",
    "\n",
    "# === 參數區 ===\n",
    "ptt_path = '../ptt_語料.csv'  # 檔案在上層資料夾\n",
    "scam_path = '500精簡詐騙字詞_UTF8.csv'\n",
    "output_path = '../ptt_語料_處理後.csv'\n",
    "\n",
    "# === 詐騙關鍵字處理 ===\n",
    "scam_keywords_df = pd.read_csv(scam_path)\n",
    "scam_keywords = scam_keywords_df['詞語'].dropna().astype(str).str.strip().tolist()\n",
    "\n",
    "# === 保險關鍵字 ===\n",
    "insurance_keywords = ['產險', '投資型', '壽險', '保單']\n",
    "\n",
    "def count_keywords(text, keywords):\n",
    "    if pd.isna(text): return 0\n",
    "    return sum(text.count(k) for k in keywords)\n",
    "\n",
    "# === 載入資料 ===\n",
    "ptt_df = pd.read_csv(ptt_path)\n",
    "ptt_df['論壇'] = 'PTT'\n",
    "\n",
    "# 標註是否主文\n",
    "ptt_df['是否主文'] = ~ptt_df['來源'].str.contains('-回文')\n",
    "\n",
    "# 發文者帳號（主文）\n",
    "ptt_df['發文者帳號'] = ptt_df.apply(\n",
    "    lambda row: row['內容'].split('作者')[1].split(' ')[0] if row['是否主文'] and '作者' in row['內容'] else None,\n",
    "    axis=1\n",
    ")\n",
    "\n",
    "# 留言帳號（留言）\n",
    "ptt_df['留言帳號'] = ptt_df.apply(\n",
    "    lambda row: row['內容'].split(':')[0].replace('→', '').strip() if not row['是否主文'] and ':' in row['內容'] else None,\n",
    "    axis=1\n",
    ")\n",
    "\n",
    "# 發文與留言時間擷取\n",
    "def extract_time(row):\n",
    "    if row['是否主文']:\n",
    "        match = re.search(r'時間(.*?)\\n', row['內容'])\n",
    "        return match.group(1).strip() if match else None\n",
    "    else:\n",
    "        match = re.search(r'\\d{2}/\\d{2} \\d{2}:\\d{2}$', row['內容'])\n",
    "        return match.group(0) if match else None\n",
    "\n",
    "ptt_df['發文時間'] = ptt_df.apply(lambda r: extract_time(r) if r['是否主文'] else None, axis=1)\n",
    "ptt_df['留言時間'] = ptt_df.apply(lambda r: extract_time(r) if not r['是否主文'] else None, axis=1)\n",
    "\n",
    "# 發文與留言內容\n",
    "ptt_df['發文內容'] = ptt_df.apply(lambda r: r['內容'] if r['是否主文'] else None, axis=1)\n",
    "ptt_df['留言內容'] = ptt_df.apply(lambda r: r['內容'] if not r['是否主文'] else None, axis=1)\n",
    "\n",
    "# 關鍵字統計\n",
    "ptt_df['保險關鍵詞次數'] = ptt_df['內容'].apply(lambda x: count_keywords(x, insurance_keywords))\n",
    "ptt_df['詐騙關鍵詞次數'] = ptt_df['內容'].apply(lambda x: count_keywords(x, scam_keywords))\n",
    "ptt_df['是否提及特定公司'] = ptt_df['內容'].apply(lambda x: any(k in x for k in ['國泰', '大樹']))\n",
    "\n",
    "# === 輸出結果 ===\n",
    "ptt_df.to_csv(output_path, index=False, encoding='utf-8-sig')\n",
    "print(f'✅ 已完成清洗並輸出：{output_path}')\n"
   ]
  }
 ],
 "metadata": {
  "kernelspec": {
   "display_name": "base",
   "language": "python",
   "name": "python3"
  },
  "language_info": {
   "codemirror_mode": {
    "name": "ipython",
    "version": 3
   },
   "file_extension": ".py",
   "mimetype": "text/x-python",
   "name": "python",
   "nbconvert_exporter": "python",
   "pygments_lexer": "ipython3",
   "version": "3.12.7"
  }
 },
 "nbformat": 4,
 "nbformat_minor": 5
}
