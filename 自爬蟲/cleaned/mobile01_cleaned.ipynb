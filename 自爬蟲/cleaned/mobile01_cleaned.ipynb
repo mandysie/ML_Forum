{
 "cells": [
  {
   "cell_type": "code",
   "execution_count": 2,
   "id": "6d154aa1",
   "metadata": {},
   "outputs": [
    {
     "name": "stdout",
     "output_type": "stream",
     "text": [
      "✅ 已完成清洗並輸出：./mobile01_處理後.csv\n"
     ]
    }
   ],
   "source": [
    "import pandas as pd\n",
    "import re\n",
    "\n",
    "# === 檔案路徑 ===\n",
    "mobile01_path = '../mobile01_full_articles_f291.csv'\n",
    "scam_path = '500精簡詐騙字詞_UTF8.csv'\n",
    "output_path = './mobile01_處理後.csv'\n",
    "\n",
    "# === 載入資料 ===\n",
    "mobile01_df = pd.read_csv(mobile01_path)\n",
    "scam_keywords_df = pd.read_csv(scam_path)\n",
    "scam_keywords = scam_keywords_df['詞語'].dropna().astype(str).str.strip().tolist()\n",
    "\n",
    "insurance_keywords = ['產險', '投資型', '壽險', '保單']\n",
    "\n",
    "def count_keywords(text, keywords):\n",
    "    if pd.isna(text): return 0\n",
    "    return sum(text.count(k) for k in keywords)\n",
    "\n",
    "# === 特徵工程處理 ===\n",
    "mobile01_df['論壇'] = 'Mobile01'\n",
    "mobile01_df['是否主文'] = mobile01_df['page'] == 1\n",
    "mobile01_df['連結'] = mobile01_df['url']\n",
    "\n",
    "# 發文與留言帳號\n",
    "def extract_author(text):\n",
    "    if isinstance(text, str):\n",
    "        match = re.search(r'(\\w+)\\s+wrote:', text)\n",
    "        return match.group(1) if match else None\n",
    "    return None\n",
    "\n",
    "mobile01_df['發文者帳號'] = mobile01_df.apply(\n",
    "    lambda row: extract_author(row['content']) if row['是否主文'] else None,\n",
    "    axis=1\n",
    ")\n",
    "mobile01_df['留言帳號'] = mobile01_df.apply(\n",
    "    lambda row: extract_author(row['content']) if not row['是否主文'] else None,\n",
    "    axis=1\n",
    ")\n",
    "\n",
    "# 發文與留言時間\n",
    "mobile01_df['發文時間'] = mobile01_df.apply(lambda r: r['post_time'] if r['是否主文'] else None, axis=1)\n",
    "mobile01_df['留言時間'] = mobile01_df.apply(lambda r: r['post_time'] if not r['是否主文'] else None, axis=1)\n",
    "\n",
    "# 發文與留言內容\n",
    "mobile01_df['發文內容'] = mobile01_df.apply(lambda r: r['content'] if r['是否主文'] else None, axis=1)\n",
    "mobile01_df['留言內容'] = mobile01_df.apply(lambda r: r['content'] if not r['是否主文'] else None, axis=1)\n",
    "\n",
    "# 詞彙標記\n",
    "mobile01_df['保險關鍵詞次數'] = mobile01_df['content'].apply(lambda x: count_keywords(x, insurance_keywords))\n",
    "mobile01_df['詐騙關鍵詞次數'] = mobile01_df['content'].apply(lambda x: count_keywords(x, scam_keywords))\n",
    "mobile01_df['是否提及特定公司'] = mobile01_df['content'].apply(lambda x: any(k in str(x) for k in ['國泰', '大樹']))\n",
    "\n",
    "# === 輸出 ===\n",
    "mobile01_df.to_csv(output_path, index=False, encoding='utf-8-sig')\n",
    "print(f'✅ 已完成清洗並輸出：{output_path}')\n"
   ]
  },
  {
   "cell_type": "code",
   "execution_count": 5,
   "id": "364f6930",
   "metadata": {},
   "outputs": [
    {
     "data": {
      "text/plain": [
       "'../mobile01_處理後.csv'"
      ]
     },
     "execution_count": 5,
     "metadata": {},
     "output_type": "execute_result"
    }
   ],
   "source": [
    "# 現在詐騙關鍵字詞檔案已上傳，重新處理三份 mobile01 原始資料\n",
    "import pandas as pd\n",
    "import re\n",
    "\n",
    "# === 檔案路徑 ===\n",
    "file_paths = [\n",
    "    \"../mobile01_full_articles_f291.csv\",\n",
    "    \"../mobile01_full_articles_802.csv\",\n",
    "    \"../mobile01_articles804_full.csv\",\n",
    "]\n",
    "scam_path = \"500精簡詐騙字詞_UTF8.csv\"\n",
    "\n",
    "# === 詐騙與保險關鍵字 ===\n",
    "scam_keywords_df = pd.read_csv(scam_path)\n",
    "scam_keywords = scam_keywords_df['詞語'].dropna().astype(str).str.strip().tolist()\n",
    "insurance_keywords = ['產險', '投資型', '壽險', '保單']\n",
    "\n",
    "def count_keywords(text, keywords):\n",
    "    if pd.isna(text): return 0\n",
    "    return sum(text.count(k) for k in keywords)\n",
    "\n",
    "def extract_author(text):\n",
    "    if isinstance(text, str):\n",
    "        match = re.search(r'(\\w+)\\s+wrote:', text)\n",
    "        return match.group(1) if match else None\n",
    "    return None\n",
    "\n",
    "def clean_mobile01(df):\n",
    "    df['論壇'] = 'Mobile01'\n",
    "    df['是否主文'] = df['page'] == 1\n",
    "    df['連結'] = df['url']\n",
    "    \n",
    "    df['發文者帳號'] = df.apply(lambda row: extract_author(row['content']) if row['是否主文'] else None, axis=1)\n",
    "    df['留言帳號'] = df.apply(lambda row: extract_author(row['content']) if not row['是否主文'] else None, axis=1)\n",
    "    \n",
    "    df['發文時間'] = df.apply(lambda r: r['post_time'] if r['是否主文'] else None, axis=1)\n",
    "    df['留言時間'] = df.apply(lambda r: r['post_time'] if not r['是否主文'] else None, axis=1)\n",
    "    df['發文內容'] = df.apply(lambda r: r['content'] if r['是否主文'] else None, axis=1)\n",
    "    df['留言內容'] = df.apply(lambda r: r['content'] if not r['是否主文'] else None, axis=1)\n",
    "    \n",
    "    df['保險關鍵詞次數'] = df['content'].apply(lambda x: count_keywords(x, insurance_keywords))\n",
    "    df['詐騙關鍵詞次數'] = df['content'].apply(lambda x: count_keywords(x, scam_keywords))\n",
    "    df['是否提及特定公司'] = df['content'].apply(lambda x: any(k in str(x) for k in ['國泰', '大樹']))\n",
    "    return df\n",
    "\n",
    "# 處理所有檔案\n",
    "cleaned_dfs = []\n",
    "for path in file_paths:\n",
    "    df = pd.read_csv(path)\n",
    "    cleaned_df = clean_mobile01(df)\n",
    "    cleaned_dfs.append(cleaned_df)\n",
    "\n",
    "# 合併後輸出\n",
    "final_mobile_df = pd.concat(cleaned_dfs, ignore_index=True)\n",
    "output_path = \"../mobile01_處理後.csv\"\n",
    "final_mobile_df.to_csv(output_path, index=False, encoding='utf-8-sig')\n",
    "output_path\n"
   ]
  }
 ],
 "metadata": {
  "kernelspec": {
   "display_name": "base",
   "language": "python",
   "name": "python3"
  },
  "language_info": {
   "codemirror_mode": {
    "name": "ipython",
    "version": 3
   },
   "file_extension": ".py",
   "mimetype": "text/x-python",
   "name": "python",
   "nbconvert_exporter": "python",
   "pygments_lexer": "ipython3",
   "version": "3.12.7"
  }
 },
 "nbformat": 4,
 "nbformat_minor": 5
}
