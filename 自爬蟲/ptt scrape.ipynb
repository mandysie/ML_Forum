{
 "cells": [
  {
   "cell_type": "code",
   "execution_count": 1,
   "metadata": {},
   "outputs": [
    {
     "name": "stdout",
     "output_type": "stream",
     "text": [
      "PTT 完成，共 36023 筆\n"
     ]
    }
   ],
   "source": [
    "# PTT 專用爬蟲\n",
    "import requests\n",
    "from bs4 import BeautifulSoup\n",
    "from urllib.parse import quote\n",
    "from time import sleep\n",
    "import csv\n",
    "import random\n",
    "\n",
    "HEADERS = {\n",
    "    'User-Agent': 'Mozilla/5.0 (Windows NT 10.0; Win64; x64) AppleWebKit/537.36 (KHTML, like Gecko) Chrome/122.0.0.0 Safari/537.36'\n",
    "}\n",
    "KEYWORDS = [\"保險\", \"國泰\", \"國泰人壽\", \"保單\", \"理賠\", \"詐騙\", \"推薦\", \"壽險\", \"產險\"]\n",
    "PTT_BOARDS = [\"Insurance\", \"WomenTalk\", \"Stock\", \"Lifeismoney\", \"Gossiping\"]\n",
    "MAX_PER_KEYWORD = 5000\n",
    "\n",
    "\n",
    "def save_to_csv(filename, rows):\n",
    "    with open(filename, \"w\", newline=\"\", encoding=\"utf-8-sig\") as f:\n",
    "        writer = csv.writer(f)\n",
    "        writer.writerow([\"來源\", \"標題\", \"連結\", \"內容\"])\n",
    "        writer.writerows(rows)\n",
    "\n",
    "\n",
    "def crawl_ptt(keyword):\n",
    "    base_url = \"https://www.ptt.cc\"\n",
    "    rows = []\n",
    "    for board in PTT_BOARDS:\n",
    "        search_url = f\"https://www.ptt.cc/bbs/{board}/search?q={quote(keyword)}\"\n",
    "        try:\n",
    "            res = requests.get(search_url, headers=HEADERS)\n",
    "            soup = BeautifulSoup(res.text, \"html.parser\")\n",
    "            links = soup.select(\".title a\")\n",
    "            for a in links[:MAX_PER_KEYWORD // len(PTT_BOARDS)]:\n",
    "                url = base_url + a['href']\n",
    "                title = a.text.strip()\n",
    "                post = requests.get(url, headers=HEADERS)\n",
    "                post_soup = BeautifulSoup(post.text, \"html.parser\")\n",
    "                content = post_soup.select_one(\"#main-content\").text\n",
    "                rows.append([f\"PTT-{board}\", title, url, content])\n",
    "                pushes = post_soup.select(\".push\")\n",
    "                for p in pushes:\n",
    "                    msg = p.text.strip()\n",
    "                    rows.append([f\"PTT-{board}-回文\", title, url, msg])\n",
    "                sleep(random.uniform(0.5, 1.2))\n",
    "        except:\n",
    "            continue\n",
    "    return rows\n",
    "\n",
    "\n",
    "all_data = []\n",
    "for kw in KEYWORDS:\n",
    "    all_data += crawl_ptt(kw)\n",
    "\n",
    "save_to_csv(\"ptt_語料.csv\", all_data)\n",
    "print(f\"PTT 完成，共 {len(all_data)} 筆\")\n"
   ]
  }
 ],
 "metadata": {
  "kernelspec": {
   "display_name": "Python 3",
   "language": "python",
   "name": "python3"
  },
  "language_info": {
   "codemirror_mode": {
    "name": "ipython",
    "version": 3
   },
   "file_extension": ".py",
   "mimetype": "text/x-python",
   "name": "python",
   "nbconvert_exporter": "python",
   "pygments_lexer": "ipython3",
   "version": "3.13.2"
  }
 },
 "nbformat": 4,
 "nbformat_minor": 2
}
