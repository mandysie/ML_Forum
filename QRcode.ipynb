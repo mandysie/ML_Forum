{
 "cells": [
  {
   "cell_type": "code",
   "execution_count": 2,
   "id": "4164db42",
   "metadata": {},
   "outputs": [
    {
     "name": "stdout",
     "output_type": "stream",
     "text": [
      "Collecting qrcodeNote: you may need to restart the kernel to use updated packages.\n",
      "\n",
      "  Downloading qrcode-8.1-py3-none-any.whl.metadata (17 kB)\n",
      "Requirement already satisfied: colorama in c:\\users\\robby1206\\anaconda3\\envs\\web_scraping\\lib\\site-packages (from qrcode) (0.4.6)\n",
      "Downloading qrcode-8.1-py3-none-any.whl (45 kB)\n",
      "Installing collected packages: qrcode\n",
      "Successfully installed qrcode-8.1\n"
     ]
    }
   ],
   "source": [
    "pip install qrcode\n"
   ]
  },
  {
   "cell_type": "code",
   "execution_count": 5,
   "id": "7d02e1f3",
   "metadata": {},
   "outputs": [],
   "source": [
    "import qrcode\n",
    "\n",
    "# 區網網址（用你的 Wi-Fi IP）\n",
    "url = \"http://192.168.1.111:5000/\"\n",
    "\n",
    "# 建立 QR Code\n",
    "qr = qrcode.QRCode(\n",
    "    version=1,\n",
    "    box_size=10,\n",
    "    border=4\n",
    ")\n",
    "qr.add_data(url)\n",
    "qr.make(fit=True)\n",
    "\n",
    "# 顯示 & 儲存\n",
    "img = qr.make_image(fill=\"black\", back_color=\"white\")\n",
    "img.show()\n",
    "img.save(\"flask_qr.png\")\n",
    "\n"
   ]
  }
 ],
 "metadata": {
  "kernelspec": {
   "display_name": "web_scraping",
   "language": "python",
   "name": "python3"
  },
  "language_info": {
   "codemirror_mode": {
    "name": "ipython",
    "version": 3
   },
   "file_extension": ".py",
   "mimetype": "text/x-python",
   "name": "python",
   "nbconvert_exporter": "python",
   "pygments_lexer": "ipython3",
   "version": "3.10.16"
  }
 },
 "nbformat": 4,
 "nbformat_minor": 5
}
